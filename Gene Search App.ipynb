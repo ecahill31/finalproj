{
 "cells": [
  {
   "cell_type": "code",
   "execution_count": null,
   "metadata": {},
   "outputs": [
    {
     "name": "stdout",
     "output_type": "stream",
     "text": [
      "Enter a gene symbol: craycray\n"
     ]
    }
   ],
   "source": [
    "marker_symbol = input (\"Enter a gene symbol: \")\n"
   ]
  },
  {
   "cell_type": "code",
   "execution_count": 19,
   "metadata": {},
   "outputs": [
    {
     "name": "stdout",
     "output_type": "stream",
     "text": [
      "https://www.ebi.ac.uk/mi/impc/solr/genotype-phenotype/select?q=marker_symbol:craycray&rows=500&wt=csv&indent=1\n"
     ]
    }
   ],
   "source": [
    "import pandas as pd\n",
    "CSV_URL = \"https://www.ebi.ac.uk/mi/impc/solr/genotype-phenotype/select?q=marker_symbol:\" + marker_symbol + \"&rows=500&wt=csv&indent=1\"\n",
    "df = pd.read_csv(CSV_URL)\n",
    "pd.unique(df['mp_term_name']).tolist()\n",
    "print(CSV_URL)"
   ]
  },
  {
   "cell_type": "code",
   "execution_count": 20,
   "metadata": {},
   "outputs": [
    {
     "name": "stdout",
     "output_type": "stream",
     "text": [
      "looks like that gene doesn't have available information. try another gene.\n"
     ]
    }
   ],
   "source": [
    "if df.empty:\n",
    "    print(\"Looks like that gene doesn't have available information. Try another gene or check your cAsE.\")\n",
    "else:\n",
    "    print (\"The symbol you entered is valid\")\n"
   ]
  },
  {
   "cell_type": "code",
   "execution_count": 4,
   "metadata": {},
   "outputs": [],
   "source": [
    "ParamId4Query = df.loc[df['mp_term_name'] ==  \"decreased erythrocyte cell number\", \"parameter_stable_id\"].iloc[0]\n"
   ]
  },
  {
   "cell_type": "code",
   "execution_count": 5,
   "metadata": {},
   "outputs": [],
   "source": [
    "ColonyId4Query = df.loc[df['mp_term_name'] ==  \"decreased erythrocyte cell number\", \"colony_id\"].iloc[0]\n"
   ]
  },
  {
   "cell_type": "code",
   "execution_count": 6,
   "metadata": {},
   "outputs": [],
   "source": [
    "CSV2_URL =  \"https://www.ebi.ac.uk/mi/impc/solr/experiment/select?q=parameter_stable_id:IMPC_HEM_002_001%20AND%20colony_id:MEBV&rows=500&wt=csv&indent=true\"\n",
    "ControlURL = \"https://www.ebi.ac.uk/mi/impc/solr/experiment/select?q=parameter_stable_id:IMPC_HEM_002_001%20AND%20colony_id:MEBV&indent=true&wt=csv&rows=1&fl=metadata_group,phenotyping_center,strain_accession_id\"\n",
    "ControlDataURL = \"https://www.ebi.ac.uk/mi/impc/solr/experiment/select?q=parameter_stable_id:IMPC_HEM_002_001&wt=csv&fq=metadata_group:c5d5b3349a0014cdac742fb284d786ed&fq=phenotyping_center:WTSI&fq=strain_accession_id:%22MGI:2159965%22&fq=biological_sample_group:control&rows=100\"\n"
   ]
  },
  {
   "cell_type": "code",
   "execution_count": 7,
   "metadata": {},
   "outputs": [
    {
     "name": "stdout",
     "output_type": "stream",
     "text": [
      "<class 'pandas.core.frame.DataFrame'>\n",
      "RangeIndex: 17 entries, 0 to 16\n",
      "Data columns (total 74 columns):\n",
      "allele_accession_id                  14 non-null object\n",
      "metadata                             17 non-null object\n",
      "parameter_association_stable_id      0 non-null float64\n",
      "gene_accession_id                    14 non-null object\n",
      "sub_term_description                 0 non-null float64\n",
      "project_name                         17 non-null object\n",
      "genetic_background                   17 non-null object\n",
      "anatomy_term                         0 non-null float64\n",
      "strain_accession_id                  17 non-null object\n",
      "litter_id                            17 non-null int64\n",
      "project_id                           17 non-null int64\n",
      "phenotyping_center                   17 non-null object\n",
      "time_point                           0 non-null float64\n",
      "file_type                            0 non-null float64\n",
      "external_sample_id                   17 non-null int64\n",
      "download_file_path                   0 non-null float64\n",
      "intermediate_anatomy_term            0 non-null float64\n",
      "sub_term_name                        0 non-null float64\n",
      "developmental_stage_name             17 non-null object\n",
      "datasource_name                      17 non-null object\n",
      "parameter_association_sequence_id    0 non-null float64\n",
      "id                                   17 non-null int64\n",
      "procedure_group                      17 non-null object\n",
      "anatomy_term_synonym                 0 non-null float64\n",
      "pipeline_stable_id                   17 non-null object\n",
      "parameter_stable_id                  17 non-null object\n",
      "anatomy_id                           0 non-null float64\n",
      "parameter_id                         17 non-null int64\n",
      "age_in_days                          17 non-null int64\n",
      "date_of_experiment                   17 non-null object\n",
      "selected_top_level_anatomy_id        0 non-null float64\n",
      "weight                               17 non-null float64\n",
      "pipeline_name                        17 non-null object\n",
      "procedure_stable_id                  17 non-null object\n",
      "observation_type                     17 non-null object\n",
      "weight_parameter_stable_id           17 non-null object\n",
      "text_value                           0 non-null float64\n",
      "developmental_stage_acc              17 non-null object\n",
      "procedure_name                       17 non-null object\n",
      "phenotyping_center_id                17 non-null int64\n",
      "production_center_id                 17 non-null int64\n",
      "weight_date                          17 non-null object\n",
      "date_of_birth                        17 non-null object\n",
      "procedure_id                         17 non-null int64\n",
      "gene_symbol                          14 non-null object\n",
      "metadata_group                       17 non-null object\n",
      "biological_sample_group              17 non-null object\n",
      "pipeline_id                          17 non-null int64\n",
      "sequence_id                          0 non-null float64\n",
      "selected_top_level_anatomy_term      0 non-null float64\n",
      "biological_sample_id                 17 non-null int64\n",
      "biological_model_id                  17 non-null int64\n",
      "weight_days_old                      17 non-null int64\n",
      "discrete_point                       0 non-null float64\n",
      "datasource_id                        17 non-null int64\n",
      "experiment_source_id                 17 non-null int64\n",
      "experiment_id                        17 non-null int64\n",
      "data_point                           17 non-null float64\n",
      "sex                                  17 non-null object\n",
      "production_center                    17 non-null object\n",
      "colony_id                            17 non-null object\n",
      "parameter_name                       17 non-null object\n",
      "parameter_association_value          0 non-null float64\n",
      "allele_symbol                        14 non-null object\n",
      "age_in_weeks                         17 non-null int64\n",
      "zygosity                             17 non-null object\n",
      "intermediate_anatomy_id              0 non-null float64\n",
      "strain_name                          17 non-null object\n",
      "_version_                            17 non-null int64\n",
      "data_type                            17 non-null object\n",
      "parameter_association_name           0 non-null float64\n",
      "sub_term_id                          0 non-null float64\n",
      "category                             0 non-null float64\n",
      "allelic_composition                  14 non-null object\n",
      "dtypes: float64(23), int64(18), object(33)\n",
      "memory usage: 9.9+ KB\n",
      "<class 'pandas.core.frame.DataFrame'>\n",
      "RangeIndex: 100 entries, 0 to 99\n",
      "Data columns (total 74 columns):\n",
      "allele_accession_id                  0 non-null float64\n",
      "metadata                             100 non-null object\n",
      "parameter_association_stable_id      0 non-null float64\n",
      "gene_accession_id                    0 non-null float64\n",
      "sub_term_description                 0 non-null float64\n",
      "project_name                         100 non-null object\n",
      "genetic_background                   100 non-null object\n",
      "anatomy_term                         0 non-null float64\n",
      "strain_accession_id                  100 non-null object\n",
      "litter_id                            100 non-null int64\n",
      "project_id                           100 non-null int64\n",
      "phenotyping_center                   100 non-null object\n",
      "time_point                           0 non-null float64\n",
      "file_type                            0 non-null float64\n",
      "external_sample_id                   100 non-null int64\n",
      "download_file_path                   0 non-null float64\n",
      "intermediate_anatomy_term            0 non-null float64\n",
      "sub_term_name                        0 non-null float64\n",
      "developmental_stage_name             100 non-null object\n",
      "datasource_name                      100 non-null object\n",
      "parameter_association_sequence_id    0 non-null float64\n",
      "id                                   100 non-null int64\n",
      "procedure_group                      100 non-null object\n",
      "anatomy_term_synonym                 0 non-null float64\n",
      "pipeline_stable_id                   100 non-null object\n",
      "parameter_stable_id                  100 non-null object\n",
      "anatomy_id                           0 non-null float64\n",
      "parameter_id                         100 non-null int64\n",
      "age_in_days                          100 non-null int64\n",
      "date_of_experiment                   100 non-null object\n",
      "selected_top_level_anatomy_id        0 non-null float64\n",
      "weight                               100 non-null float64\n",
      "pipeline_name                        100 non-null object\n",
      "procedure_stable_id                  100 non-null object\n",
      "observation_type                     100 non-null object\n",
      "weight_parameter_stable_id           100 non-null object\n",
      "text_value                           0 non-null float64\n",
      "developmental_stage_acc              100 non-null object\n",
      "procedure_name                       100 non-null object\n",
      "phenotyping_center_id                100 non-null int64\n",
      "production_center_id                 100 non-null int64\n",
      "weight_date                          100 non-null object\n",
      "date_of_birth                        100 non-null object\n",
      "procedure_id                         100 non-null int64\n",
      "gene_symbol                          0 non-null float64\n",
      "metadata_group                       100 non-null object\n",
      "biological_sample_group              100 non-null object\n",
      "pipeline_id                          100 non-null int64\n",
      "sequence_id                          0 non-null float64\n",
      "selected_top_level_anatomy_term      0 non-null float64\n",
      "biological_sample_id                 100 non-null int64\n",
      "biological_model_id                  100 non-null int64\n",
      "weight_days_old                      100 non-null int64\n",
      "discrete_point                       0 non-null float64\n",
      "datasource_id                        100 non-null int64\n",
      "experiment_source_id                 100 non-null int64\n",
      "experiment_id                        100 non-null int64\n",
      "data_point                           100 non-null float64\n",
      "sex                                  100 non-null object\n",
      "production_center                    100 non-null object\n",
      "colony_id                            100 non-null object\n",
      "parameter_name                       100 non-null object\n",
      "parameter_association_value          0 non-null float64\n",
      "allele_symbol                        0 non-null float64\n",
      "age_in_weeks                         100 non-null int64\n",
      "zygosity                             100 non-null object\n",
      "intermediate_anatomy_id              0 non-null float64\n",
      "strain_name                          100 non-null object\n",
      "_version_                            100 non-null int64\n",
      "data_type                            100 non-null object\n",
      "parameter_association_name           0 non-null float64\n",
      "sub_term_id                          0 non-null float64\n",
      "category                             0 non-null float64\n",
      "allelic_composition                  0 non-null float64\n",
      "dtypes: float64(28), int64(18), object(28)\n",
      "memory usage: 57.9+ KB\n"
     ]
    }
   ],
   "source": [
    "import pandas as pd\n",
    "df2 = pd.read_csv(CSV2_URL)\n",
    "df2.info()\n",
    "\n",
    "df3 = pd.read_csv(ControlDataURL)\n",
    "df3.info()"
   ]
  },
  {
   "cell_type": "code",
   "execution_count": 8,
   "metadata": {},
   "outputs": [
    {
     "data": {
      "text/html": [
       "<div>\n",
       "<style scoped>\n",
       "    .dataframe tbody tr th:only-of-type {\n",
       "        vertical-align: middle;\n",
       "    }\n",
       "\n",
       "    .dataframe tbody tr th {\n",
       "        vertical-align: top;\n",
       "    }\n",
       "\n",
       "    .dataframe thead th {\n",
       "        text-align: right;\n",
       "    }\n",
       "</style>\n",
       "<table border=\"1\" class=\"dataframe\">\n",
       "  <thead>\n",
       "    <tr style=\"text-align: right;\">\n",
       "      <th></th>\n",
       "      <th></th>\n",
       "      <th>data_point</th>\n",
       "    </tr>\n",
       "    <tr>\n",
       "      <th>biological_sample_group</th>\n",
       "      <th>sex</th>\n",
       "      <th></th>\n",
       "    </tr>\n",
       "  </thead>\n",
       "  <tbody>\n",
       "    <tr>\n",
       "      <th>control</th>\n",
       "      <th>female</th>\n",
       "      <td>11.596667</td>\n",
       "    </tr>\n",
       "    <tr>\n",
       "      <th rowspan=\"2\" valign=\"top\">experimental</th>\n",
       "      <th>female</th>\n",
       "      <td>9.611429</td>\n",
       "    </tr>\n",
       "    <tr>\n",
       "      <th>male</th>\n",
       "      <td>8.962857</td>\n",
       "    </tr>\n",
       "  </tbody>\n",
       "</table>\n",
       "</div>"
      ],
      "text/plain": [
       "                                data_point\n",
       "biological_sample_group sex               \n",
       "control                 female   11.596667\n",
       "experimental            female    9.611429\n",
       "                        male      8.962857"
      ]
     },
     "execution_count": 8,
     "metadata": {},
     "output_type": "execute_result"
    }
   ],
   "source": [
    "df2.groupby(['biological_sample_group', 'sex'])[['data_point']].mean()\n"
   ]
  },
  {
   "cell_type": "code",
   "execution_count": 11,
   "metadata": {},
   "outputs": [
    {
     "data": {
      "text/plain": [
       "<Figure size 640x480 with 1 Axes>"
      ]
     },
     "metadata": {},
     "output_type": "display_data"
    }
   ],
   "source": [
    "import matplotlib.pyplot as plt\n",
    "x = df2['date_of_experiment']\n",
    "y = df2['data_point']\n",
    "plt.scatter(x,y)\n",
    "plt.show()"
   ]
  },
  {
   "cell_type": "code",
   "execution_count": 12,
   "metadata": {},
   "outputs": [
    {
     "name": "stderr",
     "output_type": "stream",
     "text": [
      "/Users/eileencahill/anaconda3/lib/python3.7/site-packages/scipy/stats/stats.py:1713: FutureWarning: Using a non-tuple sequence for multidimensional indexing is deprecated; use `arr[tuple(seq)]` instead of `arr[seq]`. In the future this will be interpreted as an array index, `arr[np.array(seq)]`, which will result either in an error or a different result.\n",
      "  return np.add.reduce(sorted[indexer] * weights, axis=axis) / sumval\n"
     ]
    },
    {
     "data": {
      "image/png": "[encoded data removed]",
      "text/plain": [
       "<Figure size 720x360 with 2 Axes>"
      ]
     },
     "metadata": {
      "needs_background": "light"
     },
     "output_type": "display_data"
    }
   ],
   "source": [
    "import seaborn as sns\n",
    "x = df2['date_of_experiment']\n",
    "y = df2['data_point']\n",
    "sns.catplot(x = 'sex', y = 'data_point', col = 'biological_sample_group', kind = 'bar', data=df2)\n",
    "plt.show()\n"
   ]
  },
  {
   "cell_type": "code",
   "execution_count": null,
   "metadata": {},
   "outputs": [],
   "source": []
  }
 ],
 "metadata": {
  "kernelspec": {
   "display_name": "Python 3",
   "language": "python",
   "name": "python3"
  },
  "language_info": {
   "codemirror_mode": {
    "name": "ipython",
    "version": 3
   },
   "file_extension": ".py",
   "mimetype": "text/x-python",
   "name": "python",
   "nbconvert_exporter": "python",
   "pygments_lexer": "ipython3",
   "version": "3.7.1"
  }
 },
 "nbformat": 4,
 "nbformat_minor": 2
}
